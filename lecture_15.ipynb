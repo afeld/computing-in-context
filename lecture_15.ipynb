{
 "cells": [
  {
   "cell_type": "markdown",
   "metadata": {
    "editable": true,
    "slideshow": {
     "slide_type": "slide"
    },
    "tags": []
   },
   "source": [
    "# Lecture 15: Introduction to the Policy context\n",
    "\n",
    "Aidan Feldman\n",
    "\n",
    "Computing in Context (SIPA)\n"
   ]
  },
  {
   "cell_type": "markdown",
   "metadata": {
    "editable": true,
    "slideshow": {
     "slide_type": "slide"
    },
    "tags": []
   },
   "source": [
    "## Structure for today\n",
    "\n",
    "1. Intro\n",
    "1. Going over course info like the syllabus, tools, etc.\n",
    "1. IDEs\n",
    "1. Command line\n",
    "1. Packages\n"
   ]
  },
  {
   "cell_type": "markdown",
   "metadata": {
    "editable": true,
    "slideshow": {
     "slide_type": "slide"
    },
    "tags": []
   },
   "source": [
    "## About me\n",
    "\n",
    "- Coding since 2005 🖥\n",
    "- Government since 2014 🦅\n",
    "- Teaching since 2011 🎓\n",
    "- Also a modern dancer 💃 and cyclist 🚲\n"
   ]
  },
  {
   "cell_type": "markdown",
   "metadata": {
    "editable": true,
    "slideshow": {
     "slide_type": "subslide"
    },
    "tags": []
   },
   "source": [
    "### Day jobs\n",
    "\n",
    "Currently [freelancing](https://blog.afeld.me/know-any-teams-who-could-use-my-help-87a4247c51c1) with:\n",
    "\n",
    "- [Colorado Behavioral Health Administration](https://bha.colorado.gov/)\n",
    "- [Reinvent Albany](https://reinventalbany.org/)\n",
    "\n",
    "In the past, have worked for...\n"
   ]
  },
  {
   "cell_type": "markdown",
   "metadata": {
    "editable": true,
    "slideshow": {
     "slide_type": "subslide"
    },
    "tags": []
   },
   "source": [
    "#### Government\n",
    "\n",
    "- [NYC Office of Technology & Innovation (OTI)](https://www.nyc.gov/content/oti/pages/)\n",
    "- [California Department of Transportation (CalTrans)](https://dot.ca.gov/)\n",
    "- [General Services Administration (GSA)](https://www.gsa.gov/)\n",
    "  - [18F](https://en.wikipedia.org/wiki/18F)\n",
    "  - [TTS](https://www.gsa.gov/about-us/organization/federal-acquisition-service/technology-transformation-services)\n",
    "- [Census xD](https://xd.gov/)\n",
    "- [NYC Planning Labs](https://medium.com/nyc-planning-digital)\n"
   ]
  },
  {
   "cell_type": "markdown",
   "metadata": {
    "editable": true,
    "slideshow": {
     "slide_type": "subslide"
    },
    "tags": []
   },
   "source": [
    "#### Non-profits\n",
    "\n",
    "- [Upsolve](https://upsolve.org/)\n",
    "- [VoteAmerica](https://www.voteamerica.org/)\n"
   ]
  },
  {
   "cell_type": "markdown",
   "metadata": {
    "editable": true,
    "slideshow": {
     "slide_type": "subslide"
    },
    "tags": []
   },
   "source": [
    "#### Tech companies\n",
    "\n",
    "- [GitHub](https://github.com/)\n",
    "- [Artsy](https://www.artsy.net/)\n"
   ]
  },
  {
   "cell_type": "markdown",
   "metadata": {
    "editable": true,
    "slideshow": {
     "slide_type": "slide"
    },
    "tags": []
   },
   "source": [
    "## Access the course site\n",
    "\n",
    "[**computing-in-context.afeld.me**](https://computing-in-context.afeld.me/)\n",
    "\n",
    "You can also get there through CourseWorks.\n"
   ]
  },
  {
   "cell_type": "markdown",
   "metadata": {
    "editable": true,
    "slideshow": {
     "slide_type": "slide"
    },
    "tags": []
   },
   "source": [
    "## Class materials\n",
    "\n",
    "New context-specific stuff:\n",
    "\n",
    "- [Syllabus](index.md)\n",
    "- [Office hours](office_hours.md)\n",
    "- Files\n",
    "- [CourseWorks](https://courseworks2.columbia.edu/courses/230821)\n",
    "- [Ed](https://courseworks2.columbia.edu/courses/226977/external_tools/37606?display=borderless)\n"
   ]
  },
  {
   "cell_type": "markdown",
   "metadata": {
    "editable": true,
    "slideshow": {
     "slide_type": "slide"
    },
    "tags": []
   },
   "source": [
    "## Disclaimers\n"
   ]
  },
  {
   "cell_type": "markdown",
   "metadata": {
    "editable": true,
    "slideshow": {
     "slide_type": "subslide"
    },
    "tags": []
   },
   "source": [
    "### Me\n",
    "\n",
    "- Here to teach you to:\n",
    "  - Do a lot with just a little code\n",
    "  - Troubleshoot\n",
    "  - Google stuff\n",
    "- Not a statistician\n"
   ]
  },
  {
   "cell_type": "markdown",
   "metadata": {
    "editable": true,
    "slideshow": {
     "slide_type": "subslide"
    },
    "tags": []
   },
   "source": [
    "### You\n",
    "\n",
    "- Are not going to understand everything the first time\n",
    "- Will want to throw your computer out a window at one or many points in the class\n",
    "  - Celebrate the little victories\n",
    "- Will get out of it what you put into it\n"
   ]
  },
  {
   "cell_type": "markdown",
   "metadata": {
    "editable": true,
    "slideshow": {
     "slide_type": "subslide"
    },
    "tags": []
   },
   "source": [
    "### Politics/protests/war\n"
   ]
  },
  {
   "cell_type": "markdown",
   "metadata": {
    "editable": true,
    "slideshow": {
     "slide_type": "slide"
    },
    "tags": []
   },
   "source": [
    "## ⏪ Rewind\n",
    "\n",
    "These next two lectures, we'll be revisiting topics from the first half.\n"
   ]
  },
  {
   "cell_type": "markdown",
   "metadata": {
    "slideshow": {
     "slide_type": "slide"
    }
   },
   "source": [
    "## Python\n",
    "\n",
    "- Language\n",
    "- Interpretor\n"
   ]
  },
  {
   "cell_type": "markdown",
   "metadata": {
    "slideshow": {
     "slide_type": "subslide"
    }
   },
   "source": [
    "![languages](img/apis_conceptually/languages.png)\n"
   ]
  },
  {
   "cell_type": "markdown",
   "metadata": {
    "slideshow": {
     "slide_type": "subslide"
    }
   },
   "source": [
    "- Language\n",
    "- Interpretor\n",
    "- Editor (VSCode)\n"
   ]
  },
  {
   "cell_type": "markdown",
   "metadata": {
    "editable": true,
    "slideshow": {
     "slide_type": "slide"
    },
    "tags": []
   },
   "source": [
    "## Editors\n",
    "\n",
    "slash integrated development environments (IDEs).\n",
    "\n",
    "- Largely live demo and installation\n",
    "  - If everything works, it will be a miracle.\n",
    "  - Thanks for your patience.\n",
    "- Showing the recommended+supported path\n",
    "  - If you're comfortable with alternatives, can use those.\n",
    "- May feel like a whirlwind, just skimming the surface of these tools\n",
    "- Keeping the information in the slides minimal\n",
    "  - There are links to more info\n"
   ]
  },
  {
   "cell_type": "markdown",
   "metadata": {
    "editable": true,
    "slideshow": {
     "slide_type": "subslide"
    },
    "tags": []
   },
   "source": [
    "- Like Notepad/TextEdit/Notes vs. Word\n",
    "  - Pros/cons?\n",
    "  - Jupyter is kinda halfway\n",
    "- Getting even more powerful with generative AI integrations\n"
   ]
  },
  {
   "cell_type": "markdown",
   "metadata": {
    "editable": true,
    "slideshow": {
     "slide_type": "subslide"
    },
    "tags": []
   },
   "source": [
    "### [Visual Studio Code (VSCode)](https://code.visualstudio.com/)\n",
    "\n",
    "_Note to self: Switch to `Computing in Context demo` [Profile](https://code.visualstudio.com/docs/editor/profiles)._\n"
   ]
  },
  {
   "cell_type": "markdown",
   "metadata": {
    "editable": true,
    "slideshow": {
     "slide_type": "subslide"
    },
    "tags": []
   },
   "source": [
    "### Set up project\n",
    "\n",
    "1. Go to [open a folder/workspace](https://code.visualstudio.com/docs/editor/workspaces#_how-do-i-open-a-vs-code-workspace)\n",
    "1. If you don't have a class folder already:\n",
    "   1. Navigate to where you want it.\n",
    "   1. Click `New Folder`.\n",
    "   1. Name it something like `computing-in-context`.\n"
   ]
  },
  {
   "cell_type": "markdown",
   "metadata": {
    "editable": true,
    "slideshow": {
     "slide_type": "subslide"
    },
    "tags": []
   },
   "source": [
    "### [Extensions](https://code.visualstudio.com/docs/configure/extensions/extension-marketplace)\n",
    "\n",
    "1. [Install extensions:](https://code.visualstudio.com/docs/editor/extension-marketplace#_install-an-extension)\n",
    "   - [Python](https://marketplace.visualstudio.com/items?itemName=ms-python.python)\n",
    "   - [Ruff](https://marketplace.visualstudio.com/items?itemName=charliermarsh.ruff)\n",
    "1. Open your [User Settings JSON](https://code.visualstudio.com/docs/configure/settings).\n",
    "1. [Add the following.](https://marketplace.visualstudio.com/items?itemName=charliermarsh.ruff#configuring-vs-code) You may already have some settings and need to merge this in.\n",
    "\n",
    "   ```json\n",
    "   {\n",
    "     \"editor.formatOnSave\": true,\n",
    "     \"[python]\": {\n",
    "       \"editor.defaultFormatter\": \"charliermarsh.ruff\",\n",
    "       \"editor.codeActionsOnSave\": {\n",
    "         \"source.organizeImports\": \"explicit\"\n",
    "       }\n",
    "     },\n",
    "     \"notebook.formatOnSave.enabled\": true,\n",
    "     \"notebook.codeActionsOnSave\": {\n",
    "       \"notebook.source.organizeImports\": \"explicit\"\n",
    "     }\n",
    "   }\n",
    "   ```\n"
   ]
  },
  {
   "cell_type": "markdown",
   "metadata": {
    "editable": true,
    "slideshow": {
     "slide_type": "subslide"
    },
    "tags": []
   },
   "source": [
    "### Create Python file\n",
    "\n",
    "1. [Create](https://code.visualstudio.com/docs/python/python-tutorial#_create-a-python-source-code-file) `test.py`\n",
    "1. Add code\n",
    "   - `print()` something\n",
    "1. [Confirm](https://code.visualstudio.com/docs/python/environments#_select-and-activate-an-environment) it's using Python through the `venv`.\n",
    "   - Can have multiple Pythons\n",
    "1. [Run script](https://code.visualstudio.com/docs/python/python-tutorial#_run-python-code)\n",
    "1. Show:\n",
    "   1. Syntax issue\n",
    "   1. Unused `import`\n",
    "   1. Auto import\n"
   ]
  },
  {
   "cell_type": "markdown",
   "metadata": {
    "editable": true,
    "slideshow": {
     "slide_type": "slide"
    },
    "tags": []
   },
   "source": [
    "## Command line\n",
    "\n",
    "- Can use [from within VSCode](https://code.visualstudio.com/docs/terminal/basics), or standalone\n",
    "  - We'll do the former, to stay in one place.\n",
    "- UNIX vs. Windows\n",
    "- [Git BASH](https://gitforwindows.org/)\n",
    "- We're learning as little as necessary\n",
    "  - We get into more detail in [Advanced Computing for Policy](https://github.com/advanced-computing/course-materials/blob/main/README.md).\n"
   ]
  },
  {
   "cell_type": "markdown",
   "metadata": {
    "editable": true,
    "slideshow": {
     "slide_type": "slide"
    },
    "tags": []
   },
   "source": [
    "## Packages\n",
    "\n",
    "- a.k.a. \"libraries\"\n",
    "- Developers have create them to make code/functionality reusable and easily sharable\n",
    "- Software plugins that you `import`\n",
    "- Main packages we’ll use:\n",
    "  - `jupyter-book`\n",
    "  - `pandas`\n",
    "  - `plotly`\n"
   ]
  },
  {
   "cell_type": "markdown",
   "metadata": {
    "editable": true,
    "slideshow": {
     "slide_type": "subslide"
    },
    "tags": []
   },
   "source": [
    "> A module is a file containing Python definitions and statements.\n",
    "\n",
    "https://docs.python.org/3/tutorial/modules.html\n",
    "\n",
    "Your code, part of the [standard library](https://docs.python.org/3/library/index.html), or part of a package.\n"
   ]
  }
 ],
 "metadata": {
  "celltoolbar": "Slideshow",
  "file_extension": ".py",
  "kernelspec": {
   "display_name": "Python 3 (ipykernel)",
   "language": "python",
   "name": "python3"
  },
  "language_info": {
   "codemirror_mode": {
    "name": "ipython",
    "version": 3
   },
   "file_extension": ".py",
   "mimetype": "text/x-python",
   "name": "python",
   "nbconvert_exporter": "python",
   "pygments_lexer": "ipython3",
   "version": "3.14.0"
  },
  "mimetype": "text/x-python",
  "name": "python",
  "npconvert_exporter": "python",
  "pygments_lexer": "ipython3",
  "version": 3
 },
 "nbformat": 4,
 "nbformat_minor": 4
}
