{
 "cells": [
  {
   "cell_type": "markdown",
   "metadata": {
    "editable": true,
    "id": "Omm4n3FmPHlF",
    "slideshow": {
     "slide_type": "slide"
    },
    "tags": []
   },
   "source": [
    "# Lecture 21: Visualization exercise, continued"
   ]
  },
  {
   "cell_type": "markdown",
   "metadata": {
    "editable": true,
    "slideshow": {
     "slide_type": "slide"
    },
    "tags": []
   },
   "source": [
    "## [Schedule](https://computing-in-context.afeld.me/#schedule) updates\n",
    "\n",
    "- Project 1\n",
    "- Lecture topics\n",
    "- Thanksgiving\n",
    "- Guest speaker"
   ]
  },
  {
   "cell_type": "markdown",
   "metadata": {
    "editable": true,
    "slideshow": {
     "slide_type": "slide"
    },
    "tags": []
   },
   "source": [
    "## In-class exercise from last time\n",
    "\n",
    "Show the change in [Access to Electricity](https://databank.worldbank.org/reports.aspx?dsid=2&series=EG.ELC.ACCS.ZS) by country over time, using [World Development Indicators data](https://datacatalog.worldbank.org/search/dataset/0037712/World-Development-Indicators)."
   ]
  },
  {
   "cell_type": "markdown",
   "metadata": {
    "editable": true,
    "slideshow": {
     "slide_type": "subslide"
    },
    "tags": []
   },
   "source": [
    "### Pivoting\n",
    "\n",
    "Pandas supports [reshaping](https://pandas.pydata.org/pandas-docs/stable/user_guide/reshaping.html) DataFrames through [pivoting](https://pandas.pydata.org/pandas-docs/stable/user_guide/reshaping.html#pivot), [like spreadsheets do](https://support.google.com/docs/answer/1272900)."
   ]
  },
  {
   "cell_type": "markdown",
   "metadata": {
    "editable": true,
    "slideshow": {
     "slide_type": ""
    },
    "tags": []
   },
   "source": [
    "<video controls width=\"700\" src=\"https://github.com/afeld/python-public-policy/raw/main/extras/img/pivot.mp4\"></video>"
   ]
  },
  {
   "cell_type": "markdown",
   "metadata": {
    "editable": true,
    "slideshow": {
     "slide_type": "slide"
    },
    "tags": []
   },
   "source": [
    "## In-class exercise part two\n",
    "\n",
    "Plot against [World Happiness Report data](https://www.worldhappiness.report/data-sharing/) for a specific country."
   ]
  },
  {
   "cell_type": "markdown",
   "metadata": {
    "editable": true,
    "slideshow": {
     "slide_type": "subslide"
    },
    "tags": []
   },
   "source": [
    "### [Two Y axes](https://plotly.com/python/multiple-axes/#Two-Y-Axes)\n",
    "\n",
    "The `plotly.graph_objects` syntax is a bit different than the `plotly.express` syntax we've been using. With `go.Scatter()`, you don't provide the DataFrame and the names of the columns; you pass `x` and `y` as lists/Series of the values themselves."
   ]
  }
 ],
 "metadata": {
  "celltoolbar": "Slideshow",
  "kernelspec": {
   "display_name": "Python [conda env:computing-in-context] *",
   "language": "python",
   "name": "conda-env-computing-in-context-py"
  },
  "language_info": {
   "codemirror_mode": {
    "name": "ipython",
    "version": 3
   },
   "file_extension": ".py",
   "mimetype": "text/x-python",
   "name": "python",
   "nbconvert_exporter": "python",
   "pygments_lexer": "ipython3",
   "version": "3.12.7"
  },
  "rise": {
   "scroll": true
  },
  "toc": {
   "base_numbering": 1,
   "nav_menu": {},
   "number_sections": true,
   "sideBar": true,
   "skip_h1_title": false,
   "title_cell": "Table of Contents",
   "title_sidebar": "Contents",
   "toc_cell": false,
   "toc_position": {},
   "toc_section_display": true,
   "toc_window_display": false
  }
 },
 "nbformat": 4,
 "nbformat_minor": 4
}
