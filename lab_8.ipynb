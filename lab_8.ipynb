{
 "cells": [
  {
   "cell_type": "markdown",
   "metadata": {
    "editable": true,
    "id": "Omm4n3FmPHlF",
    "slideshow": {
     "slide_type": "slide"
    },
    "tags": []
   },
   "source": [
    "# Lab 8\n",
    "\n",
    "You will be given a bunch of instructions without (fully) understanding what they do yet. That's ok. We get more into these topics in [Advanced Computing for Policy](https://github.com/advanced-computing/course-materials/blob/main/README.md).\n"
   ]
  },
  {
   "cell_type": "markdown",
   "metadata": {
    "editable": true,
    "slideshow": {
     "slide_type": "slide"
    },
    "tags": []
   },
   "source": [
    "## Git\n",
    "\n",
    "1. In sidebar, click [Source Control](https://code.visualstudio.com/docs/sourcecontrol/overview).\n",
    "1. [Initialize the repo.](https://code.visualstudio.com/docs/sourcecontrol/overview#_initialize-a-repository)\n",
    "1. Go to [Explorer](https://code.visualstudio.com/docs/getstarted/userinterface#_explorer-view).\n",
    "1. Open [integrated terminal](https://code.visualstudio.com/docs/terminal/getting-started).\n",
    "1. Set global [name](https://docs.github.com/en/get-started/getting-started-with-git/setting-your-username-in-git) and [email](https://docs.github.com/en/account-and-profile/setting-up-and-managing-your-personal-account-on-github/managing-email-preferences/setting-your-commit-email-address#setting-your-commit-email-address-in-git) in Git. _\\[once per computer\\]_\n",
    "   - Your name and email can be set to whatever\n",
    "1. [Commit.](https://code.visualstudio.com/docs/sourcecontrol/overview#_commit)\n",
    "   - \"There are no staged changes\" -> \"Always\"\n"
   ]
  },
  {
   "cell_type": "markdown",
   "metadata": {
    "slideshow": {
     "slide_type": "subslide"
    }
   },
   "source": [
    "### Create notebook\n",
    "\n",
    "1. Create file `project_3.ipynb`\n",
    "1. Add a Markdown cell at the top, giving the notebook a title as a [heading (level 1)](https://www.markdownguide.org/basic-syntax/#headings).\n",
    "\n",
    "   ```md\n",
    "   # Project 3\n",
    "   ```\n",
    "\n",
    "1. Add a couple code cells, doing some simple math.\n",
    "1. Commit\n",
    "1. Your [Source Control Graph](https://code.visualstudio.com/docs/sourcecontrol/overview#_source-control-graph) (a.k.a. your Git history) should then look something like this:\n",
    "\n",
    "   ![Git history](img/git_history.png)\n",
    "\n",
    "Hold onto this repository; you'll use it through the end of the course.\n"
   ]
  },
  {
   "cell_type": "markdown",
   "metadata": {
    "editable": true,
    "slideshow": {
     "slide_type": "slide"
    },
    "tags": []
   },
   "source": [
    "## GitHub\n",
    "\n",
    "If you miss a step, don't worry - some are more important than others, and it's possible to do them out of order. Ask for help if you need.\n",
    "\n",
    "1. [Open](https://code.visualstudio.com/docs/editor/workspaces#_how-do-i-open-a-vs-code-workspace) the folder/repository from [Lecture 23](https://computing-in-context.afeld.me/lecture_23.html) in VSCode.\n",
    "1. Click [`Publish Branch`](https://code.visualstudio.com/docs/sourcecontrol/intro-to-git#_using-branches).\n",
    "1. [Allow signing in with GitHub](https://code.visualstudio.com/docs/sourcecontrol/github#_authenticating-with-an-existing-repository), if prompted.\n",
    "1. Click `Publish to GitHub public repository`.\n",
    "   - [Public vs. private](https://docs.github.com/en/repositories/creating-and-managing-repositories/about-repositories#about-repository-visibility)\n",
    "1. [Have VSCode periodically fetch](https://code.visualstudio.com/docs/sourcecontrol/overview#_remotes), if asked.\n",
    "1. Visit the repository on GitHub.\n",
    "   1. Click into the files.\n",
    "1. Make a change in the repository in VSCode (locally).\n",
    "1. Commit the change.\n",
    "1. [Push (a.k.a. \"sync\")](https://code.visualstudio.com/docs/sourcecontrol/overview#_remotes) the change to GitHub.\n",
    "1. Open the repository on GitHub, which should look something like this:\n",
    "\n",
    "   ![repository file list](img/repo_initial.png)\n"
   ]
  },
  {
   "cell_type": "markdown",
   "metadata": {
    "editable": true,
    "slideshow": {
     "slide_type": "slide"
    },
    "tags": []
   },
   "source": [
    "## [JupyterBook](https://jupyterbook.org/)\n",
    "\n",
    "- [Static website builder](https://jupyterbook.org/en/stable/publish/web.html)\n",
    "- Used to build the [course site](https://computing-in-context.afeld.me/)\n",
    "- Setting up for [Project 3](https://computing-in-context.afeld.me/project_3.html), which we'll [kick off in Lecture 24](https://computing-in-context.afeld.me/lecture_24.html#project-3)\n",
    "- From here on, we recommend following [these instructions on the web](https://computing-in-context.afeld.me/lab_12.html#jupyterbook) rather than through a downloaded notebook, which:\n",
    "  - Makes copying-and-pasting easier\n",
    "  - Ensures you're seeing the latest version of the instructions\n"
   ]
  },
  {
   "cell_type": "markdown",
   "metadata": {
    "editable": true,
    "slideshow": {
     "slide_type": "subslide"
    },
    "tags": []
   },
   "source": [
    "### Install\n",
    "\n",
    "[Install `jupyter-book`.](https://computing-in-context.afeld.me/notebooks.html#setup) The install might take a while; you can continue up until [building the site](#build-the-site) in the meantime.\n"
   ]
  },
  {
   "cell_type": "markdown",
   "metadata": {
    "editable": true,
    "slideshow": {
     "slide_type": "subslide"
    },
    "tags": []
   },
   "source": [
    "### [Config](https://jupyterbook.org/en/stable/customize/config.html)\n",
    "\n",
    "Using VSCode, create a minimal `_config.yml` file containing the following:\n",
    "\n",
    "```yaml\n",
    "title: Computing in Context - NAME\n",
    "author: NAME\n",
    "\n",
    "only_build_toc_files: true\n",
    "\n",
    "execute:\n",
    "  execute_notebooks: \"off\"\n",
    "\n",
    "sphinx:\n",
    "  config:\n",
    "    # https://myst-parser.readthedocs.io/en/latest/syntax/cross-referencing.html#implicit-targets\n",
    "    myst_heading_anchors: 4\n",
    "    # https://jupyterbook.org/en/stable/interactive/interactive.html#plotly\n",
    "    html_js_files:\n",
    "      - https://cdnjs.cloudflare.com/ajax/libs/require.js/2.3.4/require.min.js\n",
    "    suppress_warnings: [\"mystnb.unknown_mime_type\"]\n",
    "```\n",
    "\n",
    "Replace the `NAME` with your name. [More about YAML](https://www.cloudbees.com/blog/yaml-tutorial-everything-you-need-get-started), which rhymes with \"mammal\".\n"
   ]
  },
  {
   "cell_type": "markdown",
   "metadata": {
    "editable": true,
    "slideshow": {
     "slide_type": "subslide"
    },
    "tags": []
   },
   "source": [
    "### [Table of contents](https://jupyterbook.org/customize/toc.html)\n",
    "\n",
    "1. Move/copy the Lab 12 notebook to this folder, if it's not there already.\n",
    "1. Create a `_toc.yml` containing the following:\n",
    "\n",
    "   ```yaml\n",
    "   format: jb-book\n",
    "   root: lab_12\n",
    "   chapters:\n",
    "     - file: project_3\n",
    "   ```\n"
   ]
  },
  {
   "cell_type": "markdown",
   "metadata": {
    "editable": true,
    "slideshow": {
     "slide_type": "subslide"
    },
    "tags": []
   },
   "source": [
    "### [Build the site](https://jupyterbook.org/en/stable/start/build.html#build-your-books-html)\n",
    "\n",
    "[Open the integrated terminal](https://code.visualstudio.com/docs/terminal/getting-started) and run:\n",
    "\n",
    "```sh\n",
    "jupyter-book build --all .\n",
    "```\n",
    "\n",
    "This converted your notebooks to HTML.\n"
   ]
  },
  {
   "cell_type": "markdown",
   "metadata": {
    "editable": true,
    "slideshow": {
     "slide_type": "subslide"
    },
    "tags": []
   },
   "source": [
    "#### Troubleshooting\n",
    "\n",
    "If you get an error like `jupyter-book: command not found`:\n",
    "\n",
    "1. Double-check you've done [the install](#install).\n",
    "1. Windows: Confirm you're using Git BASH, not [Command Prompt](https://www.lifewire.com/command-prompt-2625840) or [Powershell](https://learn.microsoft.com/en-us/powershell/scripting/overview).\n",
    "1. [Activate the environment.](https://docs.python.org/3/library/venv.html#how-venvs-work)\n"
   ]
  },
  {
   "cell_type": "markdown",
   "metadata": {
    "editable": true,
    "slideshow": {
     "slide_type": "subslide"
    },
    "tags": []
   },
   "source": [
    "### View the site (locally)\n",
    "\n",
    "1. It will output \"Your book's HTML pages are here … paste this line directly into your browser bar\".\n",
    "1. Copy that [`file://` URL](https://en.wikipedia.org/wiki/File_URI_scheme) into your web browser.\n",
    "1. You should see your notebook as a JupterBook site.\n",
    "\n",
    "   ![JupyterBook](img/book_local.png)\n"
   ]
  },
  {
   "cell_type": "markdown",
   "metadata": {
    "editable": true,
    "slideshow": {
     "slide_type": "slide"
    },
    "tags": []
   },
   "source": [
    "## Commit changes\n",
    "\n",
    "1. [View the diff](https://code.visualstudio.com/docs/sourcecontrol/overview#_viewing-diffs)\n",
    "1. [Ignore](https://docs.github.com/en/get-started/getting-started-with-git/ignoring-files#configuring-ignored-files-for-a-single-repository) generated files: Create a `.gitignore` file containing the following:\n",
    "\n",
    "   ```\n",
    "   .DS_Store\n",
    "   .ipynb_checkpoints/\n",
    "   _build/\n",
    "\n",
    "   # make sure Labs aren't included\n",
    "   Lab*.ipynb\n",
    "   lab*.ipynb\n",
    "\n",
    "   # virtual environments\n",
    "   .venv/\n",
    "   myenv/\n",
    "   ```\n",
    "\n",
    "1. View the diff again\n",
    "1. Commit\n",
    "1. Push\n",
    "1. The GitHub repository should then look like this:\n",
    "\n",
    "   ![repository with JupyterBook files](img/repo_book.png)\n"
   ]
  },
  {
   "cell_type": "markdown",
   "metadata": {
    "slideshow": {
     "slide_type": "slide"
    }
   },
   "source": [
    "## Deploy the site\n",
    "\n",
    "[Deploy to GitHub pages.](https://jupyterbook.org/en/stable/publish/gh-pages.html) Starting with [the Actions configuration included in this repository](https://github.com/afeld/computing-in-context/blob/main/.github/workflows/github_pages.yml) is recommended.\n"
   ]
  },
  {
   "cell_type": "markdown",
   "metadata": {
    "editable": true,
    "slideshow": {
     "slide_type": ""
    },
    "tags": []
   },
   "source": [
    "---\n",
    "\n",
    "[Submit.](https://computing-in-context.afeld.me/notebooks.html#submission)\n"
   ]
  }
 ],
 "metadata": {
  "celltoolbar": "Slideshow",
  "kernelspec": {
   "display_name": "Python 3 (ipykernel)",
   "language": "python",
   "name": "python3"
  },
  "language_info": {
   "codemirror_mode": {
    "name": "ipython",
    "version": 3
   },
   "file_extension": ".py",
   "mimetype": "text/x-python",
   "name": "python",
   "nbconvert_exporter": "python",
   "pygments_lexer": "ipython3",
   "version": "3.14.0"
  },
  "rise": {
   "scroll": true
  }
 },
 "nbformat": 4,
 "nbformat_minor": 4
}
