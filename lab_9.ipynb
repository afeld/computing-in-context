{
 "cells": [
  {
   "cell_type": "markdown",
   "metadata": {
    "editable": true,
    "slideshow": {
     "slide_type": ""
    },
    "tags": []
   },
   "source": [
    "# Lab 9\n",
    "\n",
    "_[General notebook information](https://computing-in-context.afeld.me/notebooks.html)_\n",
    "\n",
    "The goal here is to practice [joining datasets through pandas](https://pandas.pydata.org/docs/user_guide/merging.html#merge). Hint: The instructions here are intentionally incomplete.\n"
   ]
  },
  {
   "cell_type": "markdown",
   "metadata": {},
   "source": [
    "## Data Cleaning\n",
    "\n",
    "Download the dataset at [Link](https://computing-in-context.afeld.me/data/messy_data.csv). The original data had the following columns:\n",
    "\n",
    "```\n",
    "Id - Unique identifier for a person\n",
    "Name - Person Name\n",
    "Age - Age\n",
    "Gender - M for Male and F for Female\n",
    "Salary - Annual salary in USD\n",
    "State - Two letter state identifier denoting one of the US States\n",
    "Join-Date - Date of joining in the form yyyy-mm-dd\n",
    "```\n",
    "\n",
    "But now this data is chaotic with some of your suggestions. How do we clean such a dataset?\n"
   ]
  },
  {
   "cell_type": "markdown",
   "metadata": {},
   "source": [
    "### Guide:\n",
    "\n",
    "- Inspect the Data\n",
    "- Check missing values\n",
    "- Fix formatting issues and spaces\n",
    "- Standardize categoricals\n",
    "- Handle special characters\n",
    "- Handle bad [illogical] data\n"
   ]
  },
  {
   "cell_type": "markdown",
   "metadata": {
    "editable": true,
    "slideshow": {
     "slide_type": ""
    },
    "tags": []
   },
   "source": [
    "## Step 1\n",
    "\n",
    "Find an NYC dataset with a borough column.\n",
    "\n",
    "- Use [Scout](https://scout.tsdataclinic.com/explore/NYC) to filter by column name.\n",
    "- Don't spend too long on this step.\n",
    "- [Keep the dataset small](https://python-public-policy.afeld.me/en/columbia/assignments/open_ended.html#reducing-data-size) (under 500,000-ish rows) to make it easier to work with.\n"
   ]
  },
  {
   "cell_type": "markdown",
   "metadata": {
    "editable": true,
    "slideshow": {
     "slide_type": ""
    },
    "tags": []
   },
   "source": [
    "**What's the URL of your dataset?**\n"
   ]
  },
  {
   "cell_type": "markdown",
   "metadata": {
    "editable": true,
    "slideshow": {
     "slide_type": ""
    },
    "tags": [
     "solution"
    ]
   },
   "source": [
    "YOUR RESPONSE HERE\n"
   ]
  },
  {
   "cell_type": "markdown",
   "metadata": {
    "editable": true,
    "slideshow": {
     "slide_type": ""
    },
    "tags": []
   },
   "source": [
    "## Step 2\n",
    "\n",
    "Save and load the dataset.\n"
   ]
  },
  {
   "cell_type": "code",
   "execution_count": 1,
   "metadata": {
    "editable": true,
    "slideshow": {
     "slide_type": ""
    },
    "tags": [
     "solution"
    ]
   },
   "outputs": [],
   "source": [
    "# your code here"
   ]
  },
  {
   "cell_type": "markdown",
   "metadata": {},
   "source": [
    "## Step 3\n",
    "\n",
    "Download and load the [Population by Borough](https://data.cityofnewyork.us/City-Government/New-York-City-Population-by-Borough-1950-2040/xywu-7bv9) dataset.\n"
   ]
  },
  {
   "cell_type": "code",
   "execution_count": 2,
   "metadata": {
    "tags": [
     "solution"
    ]
   },
   "outputs": [],
   "source": [
    "# your code here"
   ]
  },
  {
   "cell_type": "markdown",
   "metadata": {},
   "source": [
    "## Step 4\n",
    "\n",
    "Use [`merge()`](https://pandas.pydata.org/docs/user_guide/merging.html#merge) to combine the two, and output the resulting table.\n"
   ]
  },
  {
   "cell_type": "code",
   "execution_count": 3,
   "metadata": {
    "tags": [
     "solution"
    ]
   },
   "outputs": [],
   "source": [
    "# your code here"
   ]
  },
  {
   "cell_type": "markdown",
   "metadata": {
    "tags": []
   },
   "source": [
    "## Step 5\n",
    "\n",
    "Using the two datasets above, use pandas to produce an aggregate per-capita statistic by borough.\n",
    "\n",
    "The dataset you chose before may not work for this. That's fine, pick another.\n",
    "\n",
    "### Hint\n",
    "\n",
    "You're creating a \"number of [thing] per capita by borough\" table.\n",
    "\n",
    "1. Do a [`groupby()`](https://pandas.pydata.org/docs/user_guide/groupby.html) on the original dataset.\n",
    "1. Join with the populations by borough.\n",
    "1. Compute the per-capita values as a new column.\n"
   ]
  },
  {
   "cell_type": "code",
   "execution_count": 4,
   "metadata": {
    "tags": [
     "solution"
    ]
   },
   "outputs": [],
   "source": [
    "# your code here"
   ]
  },
  {
   "cell_type": "markdown",
   "metadata": {},
   "source": [
    "## Step 6\n",
    "\n",
    "[Submit.](https://computing-in-context.afeld.me/notebooks.html#submission)\n"
   ]
  }
 ],
 "metadata": {
  "file_extension": ".py",
  "kernelspec": {
   "display_name": "Python 3 (ipykernel)",
   "language": "python",
   "name": "python3"
  },
  "language_info": {
   "codemirror_mode": {
    "name": "ipython",
    "version": 3
   },
   "file_extension": ".py",
   "mimetype": "text/x-python",
   "name": "python",
   "nbconvert_exporter": "python",
   "pygments_lexer": "ipython3",
   "version": "3.14.0"
  },
  "mimetype": "text/x-python",
  "name": "python",
  "npconvert_exporter": "python",
  "pygments_lexer": "ipython3",
  "toc": {
   "base_numbering": 1,
   "nav_menu": {},
   "number_sections": true,
   "sideBar": true,
   "skip_h1_title": false,
   "title_cell": "Table of Contents",
   "title_sidebar": "Contents",
   "toc_cell": false,
   "toc_position": {},
   "toc_section_display": true,
   "toc_window_display": false
  },
  "version": 3
 },
 "nbformat": 4,
 "nbformat_minor": 4
}
