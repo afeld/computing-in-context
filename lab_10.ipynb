{
 "cells": [
  {
   "cell_type": "markdown",
   "metadata": {
    "editable": true,
    "slideshow": {
     "slide_type": ""
    },
    "tags": []
   },
   "source": [
    "# Lab 10\n",
    "\n",
    "_[General notebook information](https://computing-in-context.afeld.me/notebooks.html)_\n",
    "\n",
    "We are going to look at the population count of different community districts over time."
   ]
  },
  {
   "cell_type": "markdown",
   "metadata": {
    "editable": true,
    "slideshow": {
     "slide_type": ""
    },
    "tags": []
   },
   "source": [
    "## Step 0\n",
    "\n",
    "Read the data from the [New York City Population By Community Districts](https://data.cityofnewyork.us/City-Government/New-York-City-Population-By-Community-Districts/xi7c-iiu2/data) data set into a DataFrame called `pop_by_cd`. To get the URL:\n",
    "\n",
    "1. Visit the page linked above.\n",
    "1. Click `Export`.\n",
    "1. Right-click `CSV`.\n",
    "1. Click `Copy Link Address` (or `Location`, depending on your browser)."
   ]
  },
  {
   "cell_type": "code",
   "execution_count": null,
   "metadata": {
    "editable": true,
    "slideshow": {
     "slide_type": ""
    },
    "tags": [
     "solution"
    ]
   },
   "outputs": [],
   "source": [
    "# your code here"
   ]
  },
  {
   "cell_type": "markdown",
   "metadata": {
    "editable": true,
    "slideshow": {
     "slide_type": ""
    },
    "tags": []
   },
   "source": [
    "## Step 1\n",
    "\n",
    "Prepare the data. Use the following code to [reshape](https://pandas.pydata.org/pandas-docs/stable/user_guide/reshaping.html#melt-and-wide-to-long) the DataFrame to have one row per community district per Census year."
   ]
  },
  {
   "cell_type": "code",
   "execution_count": null,
   "metadata": {
    "editable": true,
    "slideshow": {
     "slide_type": ""
    },
    "tags": []
   },
   "outputs": [],
   "source": [
    "# turn the population columns into rows\n",
    "populations = pd.melt(\n",
    "    pop_by_cd,\n",
    "    id_vars=[\"Borough\", \"CD Number\", \"CD Name\"],\n",
    "    var_name=\"year\",\n",
    "    value_name=\"population\",\n",
    ")\n",
    "\n",
    "# turn the years into numbers\n",
    "populations.year = populations.year.str.replace(\" Population\", \"\").astype(int)\n",
    "\n",
    "populations"
   ]
  },
  {
   "cell_type": "markdown",
   "metadata": {
    "editable": true,
    "slideshow": {
     "slide_type": ""
    },
    "tags": []
   },
   "source": [
    "## Step 2\n",
    "\n",
    "Create a line chart of the population over time for each community district in Manhattan. There should be [one line for each](https://plotly.com/python/line-charts/#Line-Plots-with-column-encoding-color)."
   ]
  },
  {
   "cell_type": "code",
   "execution_count": null,
   "metadata": {
    "editable": true,
    "slideshow": {
     "slide_type": ""
    },
    "tags": [
     "solution"
    ]
   },
   "outputs": [],
   "source": [
    "# your code here"
   ]
  },
  {
   "cell_type": "markdown",
   "metadata": {
    "editable": true,
    "slideshow": {
     "slide_type": ""
    },
    "tags": []
   },
   "source": [
    "## Step 3\n",
    "\n",
    "Starting with the same dataset, create a line chart of the population over time for each Borough. There should be one line for each."
   ]
  },
  {
   "cell_type": "code",
   "execution_count": null,
   "metadata": {
    "editable": true,
    "slideshow": {
     "slide_type": ""
    },
    "tags": [
     "solution"
    ]
   },
   "outputs": [],
   "source": [
    "# your code here"
   ]
  },
  {
   "cell_type": "markdown",
   "metadata": {
    "editable": true,
    "slideshow": {
     "slide_type": ""
    },
    "tags": []
   },
   "source": [
    "## Step 4\n",
    "\n",
    "[Submit.](https://computing-in-context.afeld.me/notebooks.html#submission)"
   ]
  }
 ],
 "metadata": {
  "kernelspec": {
   "display_name": "Python [conda env:computing-in-context] *",
   "language": "python",
   "name": "conda-env-computing-in-context-py"
  },
  "language_info": {
   "codemirror_mode": {
    "name": "ipython",
    "version": 3
   },
   "file_extension": ".py",
   "mimetype": "text/x-python",
   "name": "python",
   "nbconvert_exporter": "python",
   "pygments_lexer": "ipython3",
   "version": "3.12.7"
  }
 },
 "nbformat": 4,
 "nbformat_minor": 4
}
