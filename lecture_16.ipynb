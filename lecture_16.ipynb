{
 "cells": [
  {
   "cell_type": "markdown",
   "id": "22df9ff0-4b08-4376-846e-14ba225cc79f",
   "metadata": {
    "editable": true,
    "slideshow": {
     "slide_type": "slide"
    },
    "tags": []
   },
   "source": [
    "# Lecture 16: Version control and Jupyter\n"
   ]
  },
  {
   "cell_type": "markdown",
   "id": "85d41fd6-1168-4e3d-b03f-18e49a3cbb5a",
   "metadata": {
    "editable": true,
    "slideshow": {
     "slide_type": "slide"
    },
    "tags": []
   },
   "source": [
    "## Version control\n"
   ]
  },
  {
   "cell_type": "markdown",
   "id": "b6044e3f-f263-4980-b29a-f552cce6d9b6",
   "metadata": {
    "editable": true,
    "slideshow": {
     "slide_type": "subslide"
    },
    "tags": []
   },
   "source": [
    "When you're editing a file and make a mistake, what do you do?\n"
   ]
  },
  {
   "cell_type": "markdown",
   "id": "24ce3a8d-335f-4c2a-a7bf-cddeba6e8235",
   "metadata": {
    "editable": true,
    "slideshow": {
     "slide_type": "subslide"
    },
    "tags": []
   },
   "source": [
    "[Changes over time (history)](https://speakerdeck.com/aidanfeldman/git-graphically?slide=2)\n"
   ]
  },
  {
   "cell_type": "markdown",
   "id": "114fd385-3902-4af5-8ea4-79740b8e4109",
   "metadata": {
    "editable": true,
    "slideshow": {
     "slide_type": "fragment"
    },
    "tags": []
   },
   "source": [
    "Undo/redo are useful\n"
   ]
  },
  {
   "cell_type": "markdown",
   "id": "efc4eb4e-c664-4195-8e8b-31d15d84d1c1",
   "metadata": {
    "editable": true,
    "slideshow": {
     "slide_type": "subslide"
    },
    "tags": []
   },
   "source": [
    "How would you try out a change that touches multiple files?\n"
   ]
  },
  {
   "cell_type": "markdown",
   "id": "d32faa9f-649f-49ac-9a4b-49a9b3590b7f",
   "metadata": {
    "editable": true,
    "slideshow": {
     "slide_type": "subslide"
    },
    "tags": []
   },
   "source": [
    "[Branching](https://speakerdeck.com/aidanfeldman/git-graphically?slide=7)\n"
   ]
  },
  {
   "cell_type": "markdown",
   "id": "04867028-9c41-4168-862b-87e88954b91b",
   "metadata": {
    "editable": true,
    "slideshow": {
     "slide_type": "subslide"
    },
    "tags": []
   },
   "source": [
    "### Git\n",
    "\n",
    "1. In sidebar, click [Source Control](https://code.visualstudio.com/docs/sourcecontrol/overview)\n",
    "1. [Install Git.](https://git-scm.com/downloads)\n",
    "   - Many ways to install\n",
    "   - In [Git for Windows](https://gitforwindows.org/), there are a _lot_ of options in the installer - stick to the defaults.\n",
    "1. [Initialize repo](https://code.visualstudio.com/docs/sourcecontrol/overview#_initialize-a-repository)\n",
    "1. Go to [Explorer](https://code.visualstudio.com/docs/getstarted/userinterface#_explorer-view)\n",
    "1. Open [integrated terminal](https://code.visualstudio.com/docs/terminal/getting-started)\n",
    "   - Windows:\n",
    "     1. [Open](https://code.visualstudio.com/docs/terminal/getting-started#_run-commands-in-another-shell) [Git BASH](https://gitforwindows.org/)\n",
    "     1. [`Select Default Profile`](https://code.visualstudio.com/docs/terminal/profiles) to be `Git BASH`\n",
    "1. Set global [name](https://docs.github.com/en/get-started/getting-started-with-git/setting-your-username-in-git) and [email](https://docs.github.com/en/account-and-profile/setting-up-and-managing-your-personal-account-on-github/managing-email-preferences/setting-your-commit-email-address#setting-your-commit-email-address-in-git) in Git\n",
    "   - Your name and email can be set to whatever\n",
    "1. [Commit](https://code.visualstudio.com/docs/sourcecontrol/overview#_commit)\n",
    "   - \"There are no staged changes\" -> \"Always\"\n"
   ]
  },
  {
   "cell_type": "markdown",
   "id": "77cf2747",
   "metadata": {
    "editable": true,
    "slideshow": {
     "slide_type": "slide"
    },
    "tags": []
   },
   "source": [
    "## Spreadsheets vs. programming languages\n"
   ]
  },
  {
   "cell_type": "markdown",
   "id": "626d67b8",
   "metadata": {
    "editable": true,
    "slideshow": {
     "slide_type": "subslide"
    },
    "tags": []
   },
   "source": [
    "What do you like about spreadsheets?\n"
   ]
  },
  {
   "cell_type": "markdown",
   "id": "e34b0559",
   "metadata": {
    "editable": true,
    "slideshow": {
     "slide_type": "subslide"
    },
    "tags": []
   },
   "source": [
    "### Why spreadsheets\n",
    "\n",
    "- The easy stuff is easy\n",
    "- Lots of people know how to use them\n",
    "- Mostly just have to point, click, and scroll\n",
    "- Data and logic live together as one\n"
   ]
  },
  {
   "cell_type": "markdown",
   "id": "84dd7e43",
   "metadata": {
    "editable": true,
    "slideshow": {
     "slide_type": "subslide"
    },
    "tags": []
   },
   "source": [
    "### Why programming languages\n",
    "\n",
    "- Data and logic _don't_ live together\n",
    "  - Why might this matter?\n"
   ]
  },
  {
   "cell_type": "markdown",
   "id": "4db2060d",
   "metadata": {
    "editable": true,
    "slideshow": {
     "slide_type": "fragment"
    },
    "tags": []
   },
   "source": [
    "- More powerful, flexible, and expressive than spreadsheet formulas; don't have to cram into a single line\n",
    "\n",
    "  ```\n",
    "  =SUM(INDEX(C3:E9,MATCH(B13,C3:C9,0),MATCH(B14,C3:E3,0)))\n",
    "  ```\n",
    "\n",
    "- Better at working with large data\n",
    "  - [Google Sheets](https://support.google.com/drive/answer/37603) and [Excel](https://support.microsoft.com/en-us/office/excel-specifications-and-limits-1672b34d-7043-467e-8e27-269d656771c3) have hard limits at 1-5 million rows, but get slow long before that\n",
    "- Reusable code (packages)\n",
    "- Automation\n"
   ]
  },
  {
   "cell_type": "markdown",
   "id": "250f3f91",
   "metadata": {
    "editable": true,
    "slideshow": {
     "slide_type": "subslide"
    },
    "tags": []
   },
   "source": [
    "### Side-by-side<sup>1</sup>\n",
    "\n",
    "|                       Task |      Spreadsheets      | Programming Languages |\n",
    "| -------------------------: | :--------------------: | :-------------------: |\n",
    "|           **Loading data** |          Easy          |        Medium         |\n",
    "|           **Viewing data** |          Easy          |        Medium         |\n",
    "|         **Filtering data** |          Easy          |        Medium         |\n",
    "|      **Manipulating data** |         Medium         |        Medium         |\n",
    "|           **Joining data** |          Hard          |        Medium         |\n",
    "| **Complicated transforms** | Impossible<sup>2</sup> |        Medium         |\n",
    "|             **Automation** | Impossible<sup>2</sup> |        Medium         |\n",
    "|        **Making reusable** |  Limited<sup>3</sup>   |        Medium         |\n",
    "|         **Large datasets** |       Impossible       |         Hard          |\n",
    "\n",
    "1. These ratings are obviously subjective\n",
    "1. Not including scripting, including [Excel's new Python+pandas support](https://support.microsoft.com/en-us/office/introduction-to-python-in-excel-55643c2e-ff56-4168-b1ce-9428c8308545)\n",
    "1. [Google Sheets supports named functions](https://support.google.com/docs/answer/12504534)\n"
   ]
  },
  {
   "cell_type": "markdown",
   "id": "5226c0e9",
   "metadata": {
    "editable": true,
    "slideshow": {
     "slide_type": "slide"
    },
    "tags": []
   },
   "source": [
    "## Python vs. other languages\n",
    "\n",
    "- Good for general-purpose _and_ data stuff\n",
    "- Widely used in both industry and academia\n",
    "- Relatively easy to learn\n",
    "- Open source\n",
    "\n",
    "![Python logo](https://upload.wikimedia.org/wikipedia/commons/thumb/c/c3/Python-logo-notext.svg/110px-Python-logo-notext.svg.png)\n"
   ]
  },
  {
   "cell_type": "markdown",
   "id": "3495864c",
   "metadata": {
    "editable": true,
    "slideshow": {
     "slide_type": "slide"
    },
    "tags": []
   },
   "source": [
    "## Where to Python\n",
    "\n",
    "Pyton can be run in:\n",
    "\n",
    "- A text file, using the `python` command\n",
    "- [The interactive Python interpreter / command prompt / shell](https://www.python.org/shell/)\n",
    "- An [integrated development environment (IDE)](https://runestone.academy/ns/books/published/thinkcspy/Appendices/usingIDE.html) like [Spyder](https://www.spyder-ide.org/) or [PyCharm](https://www.jetbrains.com/pycharm/)\n",
    "- A [Jupyter notebook](https://docs.jupyter.org/en/latest/#what-is-a-notebook)\n",
    "  - [Various other tools](https://python-public-policy.afeld.me/en/columbia/resources.html#jupyter-outside-this-course) are built around them\n",
    "  - What we'll be using for this class\n",
    "\n",
    "Each can be on your computer (\"local\"), or in the cloud somewhere. All call `python` under the hood, more or less.\n"
   ]
  },
  {
   "cell_type": "markdown",
   "id": "aa762046",
   "metadata": {
    "editable": true,
    "slideshow": {
     "slide_type": "slide"
    },
    "tags": []
   },
   "source": [
    "## Pandas\n",
    "\n",
    "- A Python package (bundled up code that you can reuse)\n",
    "- Very common for data science in Python\n",
    "- [A lot like R](https://pandas.pydata.org/docs/getting_started/comparison/comparison_with_r.html)\n",
    "  - Both organize around \"data frames\"\n"
   ]
  },
  {
   "cell_type": "markdown",
   "id": "e7fef35f",
   "metadata": {
    "editable": true,
    "slideshow": {
     "slide_type": "slide"
    },
    "tags": []
   },
   "source": [
    "## Jupyter\n",
    "\n",
    "- Web based programming environment\n",
    "- Supports Python by default, and other languages with added [kernels](https://docs.jupyter.org/en/stable/projects/kernels.html)\n",
    "- Nicely displays output of your code so you can check and share the results\n",
    "- Avoids using the command line\n"
   ]
  },
  {
   "cell_type": "markdown",
   "id": "77227c4e",
   "metadata": {
    "editable": true,
    "slideshow": {
     "slide_type": "subslide"
    },
    "tags": []
   },
   "source": [
    "### Command line vs. Jupyter\n",
    "\n",
    "![Command line vs. Jupyter output](img/cli_vs_jupyter.png)\n"
   ]
  },
  {
   "cell_type": "markdown",
   "id": "1b7d354e-3d74-4c9a-8045-cd6fc2e68908",
   "metadata": {
    "editable": true,
    "slideshow": {
     "slide_type": "subslide"
    },
    "tags": []
   },
   "source": [
    "### Create notebook\n",
    "\n",
    "1. Create file `project_3.ipynb`\n",
    "1. [Select kernel](https://code.visualstudio.com/docs/datascience/jupyter-notebooks#_create-or-open-a-jupyter-notebook)\n",
    "   1. Click `Install suggested extensions`, if it asks.\n",
    "   1. Click `Python Environments…`\n",
    "   1. Select the `.venv` one.\n",
    "1. Add a Markdown cell at the top, giving the notebook a title as a [heading (level 1)](https://www.markdownguide.org/basic-syntax/#headings).\n",
    "\n",
    "   ```md\n",
    "   # Project 3\n",
    "   ```\n",
    "\n",
    "1. Add a couple code cells, doing some simple math.\n",
    "1. Commit\n",
    "1. Your [Source Control Graph](https://code.visualstudio.com/docs/sourcecontrol/overview#_source-control-graph) (a.k.a. your Git history) should then look something like this:\n",
    "\n",
    "   ![Git history](img/git_history.png)\n",
    "\n",
    "Hold onto this repository; you'll use it through the end of the course.\n"
   ]
  },
  {
   "cell_type": "markdown",
   "id": "5bcee982-abd9-4bc0-8fcc-12ca5a11a838",
   "metadata": {
    "editable": true,
    "slideshow": {
     "slide_type": "subslide"
    },
    "tags": []
   },
   "source": [
    "Will get more into these things in more detail in [Advanced Computing for Policy](https://github.com/advanced-computing/course-materials/blob/main/README.md).\n"
   ]
  },
  {
   "cell_type": "markdown",
   "id": "79142ae0",
   "metadata": {
    "editable": true,
    "slideshow": {
     "slide_type": "subslide"
    },
    "tags": []
   },
   "source": [
    "### Jupyter basics\n",
    "\n",
    "A \"cell\" can be either code or [Markdown](https://www.markdownguide.org/getting-started/) (text). Raw Markdown looks like this:\n",
    "\n",
    "```\n",
    "## A heading\n",
    "\n",
    "Plain text\n",
    "\n",
    "[A link](https://somewhere.com)\n",
    "```\n"
   ]
  },
  {
   "cell_type": "markdown",
   "id": "8b3f7345",
   "metadata": {
    "editable": true,
    "slideshow": {
     "slide_type": "subslide"
    },
    "tags": []
   },
   "source": [
    "#### Running\n",
    "\n",
    "- You \"run\" a cell by either:\n",
    "  - Pressing the ▶️ button\n",
    "  - Pressing `Control`+`Enter` on your keyboard\n",
    "- Cells don't run unless you tell them to, in the order you do so\n",
    "  - Generally, you want to do so from the top every time you open a notebook\n"
   ]
  },
  {
   "cell_type": "markdown",
   "id": "417bd6d2",
   "metadata": {
    "editable": true,
    "slideshow": {
     "slide_type": "subslide"
    },
    "tags": []
   },
   "source": [
    "#### Output\n",
    "\n",
    "- The last thing in a code cell is what gets displayed when it's run\n",
    "- The output gets saved as part of the notebook\n",
    "- Just because there's existing output from a cell, doesn't mean that cell has been run during this session\n"
   ]
  },
  {
   "cell_type": "markdown",
   "id": "09618334-b8e2-49b7-b4e6-a8f86211b203",
   "metadata": {
    "editable": true,
    "slideshow": {
     "slide_type": "subslide"
    },
    "tags": []
   },
   "source": [
    "### Hosted notebooks\n"
   ]
  },
  {
   "cell_type": "markdown",
   "id": "1682137f-f3b7-4ac3-bd06-d1fc53d85fe4",
   "metadata": {
    "editable": true,
    "slideshow": {
     "slide_type": ""
    },
    "tags": []
   },
   "source": [
    "Jupyter can run on on your computer (“local”), or in the cloud somewhere. [Many options.](https://python-public-policy.afeld.me/en/columbia/resources.html#jupyter-outside-this-course)\n"
   ]
  },
  {
   "cell_type": "markdown",
   "id": "eeba53a6",
   "metadata": {
    "editable": true,
    "slideshow": {
     "slide_type": "subslide"
    },
    "tags": []
   },
   "source": [
    "### Some pandas/Jupyter best practices\n",
    "\n",
    "- Make variable names descriptive\n",
    "  - Ignore that all examples use `requests`\n",
    "- Only do one thing per line\n",
    "  - Makes troubleshooting easier\n",
    "- Make notebooks [idempotent](https://en.wikipedia.org/wiki/Idempotence)\n",
    "  - Makes your work reproducible\n",
    "  - Use `Restart and run all` (⏩ button in toolbar)\n"
   ]
  }
 ],
 "metadata": {
  "kernelspec": {
   "display_name": "Python 3 (ipykernel)",
   "language": "python",
   "name": "python3"
  },
  "language_info": {
   "codemirror_mode": {
    "name": "ipython",
    "version": 3
   },
   "file_extension": ".py",
   "mimetype": "text/x-python",
   "name": "python",
   "nbconvert_exporter": "python",
   "pygments_lexer": "ipython3",
   "version": "3.14.0"
  }
 },
 "nbformat": 4,
 "nbformat_minor": 5
}
