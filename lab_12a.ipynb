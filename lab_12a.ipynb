{
 "cells": [
  {
   "cell_type": "markdown",
   "metadata": {
    "editable": true,
    "id": "br6IoqhOkfW8",
    "slideshow": {
     "slide_type": ""
    },
    "tags": []
   },
   "source": [
    "# Lab 11\n",
    "\n",
    "_[General notebook information](https://computing-in-context.afeld.me/notebooks.html)_"
   ]
  },
  {
   "cell_type": "markdown",
   "metadata": {
    "editable": true,
    "slideshow": {
     "slide_type": ""
    },
    "tags": []
   },
   "source": [
    "## Buses\n",
    "\n",
    "Using [MTA ridership data](https://data.ny.gov/Transportation/MTA-Daily-Ridership-Data-Beginning-2020/vxuj-8kew/about_data), **view the bus ridership over time**."
   ]
  },
  {
   "cell_type": "code",
   "execution_count": 1,
   "metadata": {
    "editable": true,
    "slideshow": {
     "slide_type": ""
    },
    "tags": [
     "solution"
    ]
   },
   "outputs": [],
   "source": [
    "# your code here"
   ]
  },
  {
   "cell_type": "markdown",
   "metadata": {
    "editable": true,
    "slideshow": {
     "slide_type": ""
    },
    "tags": []
   },
   "source": [
    "## 311 and COVID\n",
    "\n",
    "**Goal:** Find 311 complaint types that increased or decreased when COVID-19 hit New York City in mid-March 2020.\n",
    "\n",
    "This section is specific with the DataFrame names to make troubleshooting easier."
   ]
  },
  {
   "cell_type": "markdown",
   "metadata": {
    "editable": true,
    "id": "n5pp9g_5v_8K",
    "slideshow": {
     "slide_type": ""
    },
    "tags": []
   },
   "source": [
    "### Step 0: Download the data\n",
    "\n",
    "Download [311 data](https://data.cityofnewyork.us/Social-Services/311-Service-Requests-from-2010-to-Present/erm2-nwe9/data) for `Created Date`s between `2020 Jan 01 12:00:00 AM` and `2020 Mar 31 11:59:59 PM`. It should be around 548k rows."
   ]
  },
  {
   "cell_type": "markdown",
   "metadata": {
    "editable": true,
    "id": "BtvfdWpGlLGP",
    "slideshow": {
     "slide_type": ""
    },
    "tags": []
   },
   "source": [
    "### Step 1: Load data\n",
    "\n",
    "Read the data into a DataFrame called `df_2020`."
   ]
  },
  {
   "cell_type": "code",
   "execution_count": 2,
   "metadata": {
    "editable": true,
    "slideshow": {
     "slide_type": ""
    },
    "tags": [
     "solution"
    ]
   },
   "outputs": [],
   "source": [
    "# your code here"
   ]
  },
  {
   "cell_type": "markdown",
   "metadata": {
    "editable": true,
    "id": "JQo1Pa951V-P",
    "slideshow": {
     "slide_type": ""
    },
    "tags": []
   },
   "source": [
    "### Step 2: Convert dates\n",
    "\n",
    "Ensure that timestamp columns are represented as `datetime`s."
   ]
  },
  {
   "cell_type": "code",
   "execution_count": 3,
   "metadata": {
    "editable": true,
    "slideshow": {
     "slide_type": ""
    },
    "tags": [
     "solution"
    ]
   },
   "outputs": [],
   "source": [
    "# your code here"
   ]
  },
  {
   "cell_type": "markdown",
   "metadata": {
    "editable": true,
    "id": "_AISfaNylvfX",
    "slideshow": {
     "slide_type": ""
    },
    "tags": []
   },
   "source": [
    "### Step 3: Date counts\n",
    "\n",
    "Create a DataFrame called `date_counts` that shows the number of requests per Complaint Type per day."
   ]
  },
  {
   "cell_type": "code",
   "execution_count": 4,
   "metadata": {
    "editable": true,
    "slideshow": {
     "slide_type": ""
    },
    "tags": [
     "solution"
    ]
   },
   "outputs": [],
   "source": [
    "# your code here"
   ]
  },
  {
   "cell_type": "markdown",
   "metadata": {
    "editable": true,
    "id": "cnYXtBEGCxKp",
    "slideshow": {
     "slide_type": ""
    },
    "tags": []
   },
   "source": [
    "### Step 4: Plotting over time\n",
    "\n",
    "Create a line chart of the count of complaints over time, [one line per `Complaint Type`](https://plotly.com/python/line-charts/#line-plots-with-column-encoding-color)."
   ]
  },
  {
   "cell_type": "code",
   "execution_count": 5,
   "metadata": {
    "tags": [
     "solution"
    ]
   },
   "outputs": [],
   "source": [
    "# your code here"
   ]
  },
  {
   "cell_type": "markdown",
   "metadata": {
    "id": "zJlm08A3CtJn"
   },
   "source": [
    "______________________________________________________________________\n",
    "\n",
    "This has the information we need, but is a lot to look at. Let's only show complaint types that changed greatly (in March 2020) relative to the same period in the previous year (March 2019)."
   ]
  },
  {
   "cell_type": "markdown",
   "metadata": {
    "editable": true,
    "id": "blbSpASlq2BN",
    "slideshow": {
     "slide_type": ""
    },
    "tags": []
   },
   "source": [
    "### Step 5: March 2020 counts\n",
    "\n",
    "Create a DataFrame called `mar_counts` that has the count of each `Complaint Type` in March 2020 in a column called `2020`. Use [`.to_frame()`](https://pandas.pydata.org/pandas-docs/stable/reference/api/pandas.Series.to_frame.html) (instead of [`.reset_index()`](https://pandas.pydata.org/pandas-docs/stable/reference/api/pandas.Series.reset_index.html)) to use the `Complaint Type` as the index. It should end up looking something like this:\n",
    "\n",
    "Complaint Type | 2020\n",
    "--- | ---\n",
    "APPLIANCE | 824\n",
    "Abandoned Vehicle | 2500\n",
    "Adopt-A-Basket | 7\n",
    "… | …\n",
    "\n",
    "_Note there is no numeric index._"
   ]
  },
  {
   "cell_type": "code",
   "execution_count": 6,
   "metadata": {
    "tags": [
     "solution"
    ]
   },
   "outputs": [],
   "source": [
    "# your code here"
   ]
  },
  {
   "cell_type": "markdown",
   "metadata": {
    "editable": true,
    "id": "Fr1wKrqVILOF",
    "slideshow": {
     "slide_type": ""
    },
    "tags": []
   },
   "source": [
    "### Step 6: Get March 2019 data\n",
    "\n",
    "Follow Steps 0-2 again, this time with 311 requests for all of March 2019. Name the DataFrame `mar_2019`.\n",
    "\n",
    "Similar to Step 0, if having trouble downloading, you can load from:\n",
    "\n",
    "https://storage.googleapis.com/python-public-policy2/data/311_mar_2019.csv.zip"
   ]
  },
  {
   "cell_type": "code",
   "execution_count": 7,
   "metadata": {
    "tags": [
     "solution"
    ]
   },
   "outputs": [],
   "source": [
    "# your code here"
   ]
  },
  {
   "cell_type": "markdown",
   "metadata": {
    "editable": true,
    "id": "g8lAFy31LfLy",
    "slideshow": {
     "slide_type": ""
    },
    "tags": []
   },
   "source": [
    "### Step 7: March 2019 counts\n",
    "\n",
    "1. Get the `Complaint Type` counts for March 2019.\n",
    "1. Add these to the `mar_counts` DataFrame as a column called `2019`.\n",
    "   - Reminder that adding a Series as a new column to a DataFrame matches rows based on the index."
   ]
  },
  {
   "cell_type": "code",
   "execution_count": 8,
   "metadata": {
    "tags": [
     "solution"
    ]
   },
   "outputs": [],
   "source": [
    "# your code here"
   ]
  },
  {
   "cell_type": "markdown",
   "metadata": {
    "editable": true,
    "id": "NmfzxOwEuTWt",
    "slideshow": {
     "slide_type": ""
    },
    "tags": []
   },
   "source": [
    "### Step 8: Percent change\n",
    "\n",
    "Use `mar_counts` to calculate the percent change from March 2019 to March 2020 for each `Complaint Type`. Save as the `pct_change` column. Should result in something like this:\n",
    "\n",
    "Complaint Type | 2020 | 2019 | pct_change\n",
    "--- | --- | --- | ---\n",
    "APPLIANCE | 824 | 1042 | -0.20\n",
    "Abandoned Vehicle | 2500 | 1 | 2499.00\n",
    "Adopt-A-Basket | 7 | NaN | NaN\n",
    "… | … | … | …"
   ]
  },
  {
   "cell_type": "code",
   "execution_count": 9,
   "metadata": {
    "tags": [
     "solution"
    ]
   },
   "outputs": [],
   "source": [
    "# your code here"
   ]
  },
  {
   "cell_type": "markdown",
   "metadata": {
    "editable": true,
    "id": "nu5-RoTCFRPr",
    "slideshow": {
     "slide_type": ""
    },
    "tags": []
   },
   "source": [
    "### Step 9: Filter\n",
    "\n",
    "Filter to `Complaint Type`s that both:\n",
    "\n",
    "- Occurred at least 50 times in March 2020\n",
    "- Changed (increased _or_ decreased) by more than 90%\n",
    "\n",
    "and save the DataFrame as `top_changed`. A couple of things that may be helpful:\n",
    "\n",
    "- [Selecting Subsets of Data in Pandas](https://medium.com/dunder-data/selecting-subsets-of-data-in-pandas-39e811c81a0c), starting from \"Multiple condition expression\"\n",
    "- [Getting absolute values](https://pandas.pydata.org/pandas-docs/stable/reference/api/pandas.DataFrame.abs.html)"
   ]
  },
  {
   "cell_type": "code",
   "execution_count": 10,
   "metadata": {
    "tags": [
     "solution"
    ]
   },
   "outputs": [],
   "source": [
    "# your code here"
   ]
  },
  {
   "cell_type": "markdown",
   "metadata": {
    "editable": true,
    "id": "ENFrJrS3w7H_",
    "slideshow": {
     "slide_type": ""
    },
    "tags": []
   },
   "source": [
    "### Step 10: Top changed\n",
    "\n",
    "Filter the `date_counts` to only the `top_changed` `Complaint Type`s. Save as `top_changed_by_day`."
   ]
  },
  {
   "cell_type": "code",
   "execution_count": 11,
   "metadata": {
    "tags": [
     "solution"
    ]
   },
   "outputs": [],
   "source": [
    "# your code here"
   ]
  },
  {
   "cell_type": "markdown",
   "metadata": {
    "editable": true,
    "id": "xJflRexSypwA",
    "slideshow": {
     "slide_type": ""
    },
    "tags": []
   },
   "source": [
    "### Step 11: Plotting changed complaints\n",
    "\n",
    "Make a similar plot to Step 4, but with only the top complaints (`top_changed_by_day`)."
   ]
  },
  {
   "cell_type": "code",
   "execution_count": 12,
   "metadata": {
    "tags": [
     "solution"
    ]
   },
   "outputs": [],
   "source": [
    "# your code here"
   ]
  },
  {
   "cell_type": "markdown",
   "metadata": {
    "editable": true,
    "id": "9X1Cjz1i0f_h",
    "slideshow": {
     "slide_type": ""
    },
    "tags": []
   },
   "source": [
    "### Step 12: Analysis\n",
    "\n",
    "***Did the change of any of the `Complaint Type`s in Step 10/11 surprise you? Why or why not? (Speak at least one specifically.)***"
   ]
  },
  {
   "cell_type": "markdown",
   "metadata": {
    "editable": true,
    "slideshow": {
     "slide_type": ""
    },
    "tags": [
     "solution"
    ]
   },
   "source": [
    "YOUR RESPONSE HERE"
   ]
  },
  {
   "cell_type": "markdown",
   "metadata": {
    "editable": true,
    "slideshow": {
     "slide_type": ""
    },
    "tags": []
   },
   "source": [
    "Then, give these a read:\n",
    "\n",
    "- [NY Daily News article](https://www.nydailynews.com/coronavirus/ny-coronavirus-price-gouging-new-york-city-20200429-z5zs4ygfxbcmrpgzfrnlbxsnea-story.html)\n",
    "- [Press release from Department of Consumer and Worker Protection](https://web.archive.org/web/20240105080030/https://www.nyc.gov/site/dca/media/pr031720-DCWP-Emergency-Rule-Price-Gouging-Illegal.page)\n",
    "\n",
    "Overall caveat for this assignment: [**correlation does not imply causation**](https://www.khanacademy.org/math/probability/scatterplots-a1/creating-interpreting-scatterplots/v/correlation-and-causality)."
   ]
  },
  {
   "cell_type": "markdown",
   "metadata": {
    "editable": true,
    "slideshow": {
     "slide_type": ""
    },
    "tags": []
   },
   "source": [
    "### Step 13 (optional): Chart against COVID-19 case counts\n",
    "\n",
    "Let's take a look at the `Consumer Complaint`s against the COVID-19 case numbers in NYC in the same graph. You'll need to:\n",
    "\n",
    "1. Find data that provides the COVID-19 case counts for NYC by day.\n",
    "1. Create a DataFrame with only the `Consumer Complaint` `Complaint Type` counts, by day.\n",
    "1. Chart the two against each other for February through March.\n",
    "\n",
    "The result should look something like this (without the black box):\n",
    "\n",
    "![bonus solution chart](img/lab_11_bonus.png)\n",
    "\n",
    "Some resources that may be helpful:\n",
    "\n",
    "- [Reading CSV data from GitHub](https://projectosyo.wixsite.com/datadoubleconfirm/single-post/2019/04/15/Reading-csv-data-from-Github---Python)\n",
    "- [Setting the Range of Axes Manually in plotly](https://plotly.com/python/axes/#setting-the-range-of-axes-manually)"
   ]
  },
  {
   "cell_type": "code",
   "execution_count": 13,
   "metadata": {
    "editable": true,
    "slideshow": {
     "slide_type": ""
    },
    "tags": [
     "solution"
    ]
   },
   "outputs": [],
   "source": [
    "# your code here"
   ]
  },
  {
   "cell_type": "markdown",
   "metadata": {
    "editable": true,
    "id": "CbrIfq1J4oEU",
    "slideshow": {
     "slide_type": ""
    },
    "tags": []
   },
   "source": [
    "### Step 14: [Submit](https://computing-in-context.afeld.me/notebooks.html#submission)"
   ]
  }
 ],
 "metadata": {
  "kernelspec": {
   "display_name": "Python 3 (ipykernel)",
   "language": "python",
   "name": "python3"
  },
  "language_info": {
   "codemirror_mode": {
    "name": "ipython",
    "version": 3
   },
   "file_extension": ".py",
   "mimetype": "text/x-python",
   "name": "python",
   "nbconvert_exporter": "python",
   "pygments_lexer": "ipython3",
   "version": "3.14.0"
  }
 },
 "nbformat": 4,
 "nbformat_minor": 4
}
